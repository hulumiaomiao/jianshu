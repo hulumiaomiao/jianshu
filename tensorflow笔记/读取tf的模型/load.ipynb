{
 "cells": [
  {
   "cell_type": "code",
   "execution_count": 2,
   "metadata": {},
   "outputs": [
    {
     "name": "stdout",
     "output_type": "stream",
     "text": [
      "INFO:tensorflow:Restoring parameters from ./modelsave/model.ckpt-100\n",
      "109的预测值是: [[ 9.84855175]]\n"
     ]
    }
   ],
   "source": [
    "import tensorflow as tf\n",
    "with tf.Session() as sess:\n",
    "    new_saver=tf.train.import_meta_graph('./modelsave/model.ckpt-100.meta')\n",
    "    new_saver.restore(sess,\"./modelsave/model.ckpt-100\")\n",
    "    graph = tf.get_default_graph()\n",
    "    x=graph.get_operation_by_name('x').outputs[0]\n",
    "    y=tf.get_collection(\"pred_network\")[0]\n",
    "    print(\"109的预测值是:\",sess.run(y, feed_dict={x: [[109]]}))"
   ]
  },
  {
   "cell_type": "code",
   "execution_count": null,
   "metadata": {},
   "outputs": [],
   "source": []
  }
 ],
 "metadata": {
  "kernelspec": {
   "display_name": "Python 3",
   "language": "python",
   "name": "python3"
  },
  "language_info": {
   "codemirror_mode": {
    "name": "ipython",
    "version": 3
   },
   "file_extension": ".py",
   "mimetype": "text/x-python",
   "name": "python",
   "nbconvert_exporter": "python",
   "pygments_lexer": "ipython3",
   "version": "3.5.4"
  }
 },
 "nbformat": 4,
 "nbformat_minor": 2
}

{
 "cells": [
  {
   "cell_type": "code",
   "execution_count": 2,
   "metadata": {},
   "outputs": [
    {
     "name": "stdout",
     "output_type": "stream",
     "text": [
      "109的预测值是: [[ 9.84855175]]\n",
      "W_Value: 0.090344 b_Value: 0.001086 cost_Value: 1.043675\n",
      "model saved in file:  ./modelsave/model.ckpt-100\n"
     ]
    }
   ],
   "source": [
    "import tensorflow as tf\n",
    "import numpy as np\n",
    "import matplotlib.pyplot as plt\n",
    "\n",
    "money=np.array([[109],[82],[99], [72], [87], [78], [86], [84], [94], [57]]).astype(np.float32)\n",
    "click=np.array([[11], [8], [8], [6],[ 7], [7], [7], [8], [9], [5]]).astype(np.float32)\n",
    "x_test=money[0:5].reshape(-1,1)\n",
    "y_test=click[0:5]\n",
    "x_train=money[5:].reshape(-1,1)\n",
    "y_train=click[5:]\n",
    "\n",
    "\n",
    "x=tf.placeholder(tf.float32,[None,1],name='x') #保存要输入的格式\n",
    "w=tf.Variable(tf.zeros([1,1]))\n",
    "b=tf.Variable(tf.zeros([1]))\n",
    "y=tf.matmul(x,w)+b\n",
    "tf.add_to_collection('pred_network', y) #用于加载模型获取要预测的网络结构\n",
    "y_=tf.placeholder(tf.float32,[None,1])\n",
    "cost=tf.reduce_sum(tf.pow((y-y_),2))\n",
    "train_step=tf.train.GradientDescentOptimizer(0.000001).minimize(cost)\n",
    "\n",
    "\n",
    "init=tf.global_variables_initializer()\n",
    "sess=tf.Session()\n",
    "sess.run(init)\n",
    "cost_history=[]\n",
    "\n",
    "saver = tf.train.Saver()\n",
    "for i in range(100):\n",
    "    feed={x:x_train,y_:y_train}\n",
    "    sess.run(train_step,feed_dict=feed)\n",
    "cost_history.append(sess.run(cost,feed_dict=feed))\n",
    "# 输出最终的W,b和cost值\n",
    "print(\"109的预测值是:\",sess.run(y, feed_dict={x: [[109]]}))\n",
    "print(\"W_Value: %f\" % sess.run(w), \"b_Value: %f\" % sess.run(b), \"cost_Value: %f\" % sess.run(cost, feed_dict=feed))\n",
    "saver_path = saver.save(sess, \"./modelsave/model.ckpt\",global_step=100)\n",
    "print(\"model saved in file: \", saver_path)"
   ]
  },
  {
   "cell_type": "code",
   "execution_count": null,
   "metadata": {},
   "outputs": [],
   "source": []
  }
 ],
 "metadata": {
  "kernelspec": {
   "display_name": "Python 3",
   "language": "python",
   "name": "python3"
  },
  "language_info": {
   "codemirror_mode": {
    "name": "ipython",
    "version": 3
   },
   "file_extension": ".py",
   "mimetype": "text/x-python",
   "name": "python",
   "nbconvert_exporter": "python",
   "pygments_lexer": "ipython3",
   "version": "3.5.4"
  }
 },
 "nbformat": 4,
 "nbformat_minor": 2
}
